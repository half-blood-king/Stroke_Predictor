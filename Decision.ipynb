{
 "cells": [
  {
   "cell_type": "code",
   "execution_count": 11,
   "id": "07859581",
   "metadata": {},
   "outputs": [
    {
     "name": "stdout",
     "output_type": "stream",
     "text": [
      "accuracy:  0.9080234833659491\n",
      "Mean Absolute Error: 0.09197651663405088\n"
     ]
    }
   ],
   "source": [
    "import pandas as pd\n",
    "import numpy as np\n",
    "from sklearn.tree import DecisionTreeClassifier\n",
    "from sklearn.model_selection import train_test_split\n",
    "from sklearn.metrics import accuracy_score\n",
    "from sklearn import metrics\n",
    "\n",
    "\n",
    "dataset = pd.read_csv(\"healthcare-dataset-stroke-data.csv\")\n",
    "dataset=dataset.fillna(0)\n",
    "X = dataset[[\n",
    "    'age', \n",
    "    'hypertension', \n",
    "    'heart_disease', \n",
    "    'avg_glucose_level', \n",
    "    'bmi'\n",
    "]].values\n",
    "\n",
    "\n",
    "y = dataset['stroke']\n",
    "\n",
    "\n",
    "\n",
    "X_train, X_test, y_train, y_test = train_test_split(X, y ,test_size = 0.2)\n",
    "\n",
    "model = DecisionTreeClassifier(criterion = 'entropy')\n",
    "model.fit(X_train, y_train)\n",
    "prediction = model.predict(X_test)\n",
    "\n",
    "print(\"accuracy: \", accuracy_score(y_test, prediction))\n",
    "print('Mean Absolute Error:', metrics.mean_absolute_error(y_test, prediction))\n",
    "\n",
    "\n"
   ]
  },
  {
   "cell_type": "code",
   "execution_count": null,
   "id": "5d3e4a75",
   "metadata": {},
   "outputs": [],
   "source": []
  }
 ],
 "metadata": {
  "kernelspec": {
   "display_name": "Python 3",
   "language": "python",
   "name": "python3"
  },
  "language_info": {
   "codemirror_mode": {
    "name": "ipython",
    "version": 3
   },
   "file_extension": ".py",
   "mimetype": "text/x-python",
   "name": "python",
   "nbconvert_exporter": "python",
   "pygments_lexer": "ipython3",
   "version": "3.8.8"
  }
 },
 "nbformat": 4,
 "nbformat_minor": 5
}
