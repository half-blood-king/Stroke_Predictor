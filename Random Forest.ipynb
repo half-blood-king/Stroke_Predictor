{
 "cells": [
  {
   "cell_type": "code",
   "execution_count": 4,
   "id": "80b17715",
   "metadata": {},
   "outputs": [
    {
     "name": "stdout",
     "output_type": "stream",
     "text": [
      "Accuracy is :  0.9386823222439661\n"
     ]
    }
   ],
   "source": [
    "import pandas as pd\n",
    "import numpy as np\n",
    "from sklearn.model_selection import train_test_split\n",
    "from sklearn.metrics import accuracy_score\n",
    "from sklearn.ensemble import RandomForestClassifier\n",
    "from sklearn import metrics\n",
    "\n",
    "\n",
    "\n",
    "dataset = pd.read_csv(\"healthcare-dataset-stroke-data.csv\")\n",
    "dataset=dataset.fillna(0)\n",
    "X = dataset[[\n",
    "    'age', \n",
    "    'hypertension', \n",
    "    'heart_disease', \n",
    "    'avg_glucose_level', \n",
    "    'bmi'\n",
    "]].values\n",
    "\n",
    "\n",
    "y = dataset['stroke']\n",
    "\n",
    "\n",
    "X_train, X_test, y_train, y_test = train_test_split(X, y ,test_size = 0.5)\n",
    "\n",
    "regressor = RandomForestClassifier(n_estimators=10, random_state=0)\n",
    "regressor.fit(X_train, y_train)\n",
    "prediction = regressor.predict(X_test)\n",
    "print(\"Accuracy is : \", accuracy_score(y_test, prediction))\n",
    "\n"
   ]
  },
  {
   "cell_type": "code",
   "execution_count": null,
   "id": "3a51f8f0",
   "metadata": {},
   "outputs": [],
   "source": []
  },
  {
   "cell_type": "code",
   "execution_count": null,
   "id": "0eba91ba",
   "metadata": {},
   "outputs": [],
   "source": []
  }
 ],
 "metadata": {
  "kernelspec": {
   "display_name": "Python 3",
   "language": "python",
   "name": "python3"
  },
  "language_info": {
   "codemirror_mode": {
    "name": "ipython",
    "version": 3
   },
   "file_extension": ".py",
   "mimetype": "text/x-python",
   "name": "python",
   "nbconvert_exporter": "python",
   "pygments_lexer": "ipython3",
   "version": "3.8.8"
  }
 },
 "nbformat": 4,
 "nbformat_minor": 5
}
