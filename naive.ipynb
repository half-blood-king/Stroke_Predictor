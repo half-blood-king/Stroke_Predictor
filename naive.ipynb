{
 "cells": [
  {
   "cell_type": "code",
   "execution_count": 2,
   "id": "c7a6274a",
   "metadata": {},
   "outputs": [
    {
     "name": "stdout",
     "output_type": "stream",
     "text": [
      "accuracy:  0.8992172211350293\n"
     ]
    }
   ],
   "source": [
    "from sklearn.naive_bayes import GaussianNB\n",
    "import numpy as np\n",
    "import pandas as pd\n",
    "from sklearn.metrics import accuracy_score\n",
    "\n",
    "from sklearn.model_selection import train_test_split, cross_val_predict\n",
    "\n",
    "from sklearn import metrics\n",
    "dataset = pd.read_csv(\"healthcare-dataset-stroke-data.csv\")\n",
    "dataset=dataset.fillna(0)\n",
    "X = dataset[[\n",
    "    'age', \n",
    "    'hypertension', \n",
    "    'heart_disease', \n",
    "    'avg_glucose_level', \n",
    "    'bmi'\n",
    "]].values\n",
    "\n",
    "\n",
    "y = dataset['stroke']\n",
    "\n",
    "X_train, X_test, y_train, y_test = train_test_split(X, y ,test_size = 0.2)\n",
    "\n",
    "gnb = GaussianNB()\n",
    "\n",
    "#plt.scatter(X.T[14], y)\n",
    "#plt.show()\n",
    "\n",
    "prediction = gnb.fit(X_train, y_train).predict(X_test)\n",
    "print(\"accuracy: \", accuracy_score(y_test, prediction))\n",
    "\n"
   ]
  },
  {
   "cell_type": "code",
   "execution_count": null,
   "id": "34ec875f",
   "metadata": {},
   "outputs": [],
   "source": []
  }
 ],
 "metadata": {
  "kernelspec": {
   "display_name": "Python 3",
   "language": "python",
   "name": "python3"
  },
  "language_info": {
   "codemirror_mode": {
    "name": "ipython",
    "version": 3
   },
   "file_extension": ".py",
   "mimetype": "text/x-python",
   "name": "python",
   "nbconvert_exporter": "python",
   "pygments_lexer": "ipython3",
   "version": "3.8.8"
  }
 },
 "nbformat": 4,
 "nbformat_minor": 5
}
